{
 "cells": [
  {
   "cell_type": "code",
   "execution_count": 1,
   "metadata": {},
   "outputs": [],
   "source": [
    "import pandas as pd\n",
    "from datetime import date\n",
    "import ndjson\n",
    "import numpy as np"
   ]
  },
  {
   "cell_type": "code",
   "execution_count": 2,
   "metadata": {},
   "outputs": [
    {
     "data": {
      "text/plain": [
       "(75233, 28)"
      ]
     },
     "execution_count": 2,
     "metadata": {},
     "output_type": "execute_result"
    }
   ],
   "source": [
    "df1 = pd.read_csv('../models/230602/signal.csv')\n",
    "df1.shape"
   ]
  },
  {
   "cell_type": "code",
   "execution_count": 3,
   "metadata": {},
   "outputs": [],
   "source": [
    "all_rows = []\n",
    "false_rows = []\n",
    "\n",
    "for i, r in df1.iterrows():\n",
    "    d_row = dict(r)\n",
    "    d_row['clean_call_nr'] = d_row['call_nr'][:14]\n",
    "    if int(d_row['call_nr'][:4]) <= 1600:\n",
    "        d_row['century'] = '16 c.'\n",
    "    elif int(d_row['call_nr'][:4]) <= 1700:\n",
    "        d_row['century'] = '17 c.'\n",
    "    elif int(d_row['call_nr'][:4]) <= 1800:\n",
    "        d_row['century'] = '18 c.'\n",
    "    else:\n",
    "        d_row['century'] = '19 c.'\n",
    "    try:\n",
    "        d_row['clean_month_dt'] = date.fromisoformat(d_row['clean_month'])\n",
    "        all_rows.append(d_row)\n",
    "    except ValueError:\n",
    "        false_rows.append(d_row)\n",
    "    \n",
    "\n",
    "df2 = pd.DataFrame(all_rows)\n",
    "df3 = pd.DataFrame(false_rows)"
   ]
  },
  {
   "cell_type": "code",
   "execution_count": 5,
   "metadata": {},
   "outputs": [],
   "source": [
    "df2.to_csv('../models/230602/signal_clean.csv')"
   ]
  },
  {
   "cell_type": "code",
   "execution_count": 4,
   "metadata": {},
   "outputs": [
    {
     "data": {
      "text/plain": [
       "(28, 30)"
      ]
     },
     "execution_count": 4,
     "metadata": {},
     "output_type": "execute_result"
    }
   ],
   "source": [
    "df3.shape"
   ]
  },
  {
   "cell_type": "code",
   "execution_count": null,
   "metadata": {},
   "outputs": [],
   "source": []
  }
 ],
 "metadata": {
  "kernelspec": {
   "display_name": "base",
   "language": "python",
   "name": "python3"
  },
  "language_info": {
   "codemirror_mode": {
    "name": "ipython",
    "version": 3
   },
   "file_extension": ".py",
   "mimetype": "text/x-python",
   "name": "python",
   "nbconvert_exporter": "python",
   "pygments_lexer": "ipython3",
   "version": "3.9.13"
  },
  "orig_nbformat": 4
 },
 "nbformat": 4,
 "nbformat_minor": 2
}
