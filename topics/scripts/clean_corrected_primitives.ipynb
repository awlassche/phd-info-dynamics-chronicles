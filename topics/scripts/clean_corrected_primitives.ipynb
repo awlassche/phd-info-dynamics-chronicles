{
 "cells": [
  {
   "cell_type": "code",
   "execution_count": 1,
   "metadata": {},
   "outputs": [],
   "source": [
    "from datetime import date\n",
    "import numpy as np\n",
    "import pandas as pd\n",
    "import ndjson\n",
    "import matplotlib.pyplot as plt\n",
    "import seaborn as sns\n",
    "import nltk\n",
    "from tqdm import tqdm\n",
    "\n",
    "TOKENIZER = nltk.tokenize.word_tokenize\n",
    "\n",
    "punctuation = \"[{`,.?!:;/\\()''\"\"}¬]\" #eventueel hier de hyphen weghalen zodat deze later gemerged kunnen worden in het outputfile\n"
   ]
  },
  {
   "cell_type": "code",
   "execution_count": 2,
   "metadata": {},
   "outputs": [
    {
     "data": {
      "text/plain": [
       "(101710, 6)"
      ]
     },
     "execution_count": 2,
     "metadata": {},
     "output_type": "execute_result"
    }
   ],
   "source": [
    "with open('../output/primitives_230807/primitives_corrected_monthly.ndjson') as fin:\n",
    "    primitives = ndjson.load(fin)\n",
    "\n",
    "df_primitives = pd.DataFrame(primitives)\n",
    "df_primitives.shape"
   ]
  },
  {
   "cell_type": "code",
   "execution_count": 3,
   "metadata": {},
   "outputs": [
    {
     "data": {
      "text/html": [
       "<div>\n",
       "<style scoped>\n",
       "    .dataframe tbody tr th:only-of-type {\n",
       "        vertical-align: middle;\n",
       "    }\n",
       "\n",
       "    .dataframe tbody tr th {\n",
       "        vertical-align: top;\n",
       "    }\n",
       "\n",
       "    .dataframe thead th {\n",
       "        text-align: right;\n",
       "    }\n",
       "</style>\n",
       "<table border=\"1\" class=\"dataframe\">\n",
       "  <thead>\n",
       "    <tr style=\"text-align: right;\">\n",
       "      <th></th>\n",
       "      <th>date</th>\n",
       "      <th>text</th>\n",
       "      <th>call_nr</th>\n",
       "      <th>id</th>\n",
       "      <th>clean_date</th>\n",
       "      <th>date_uncertainty</th>\n",
       "    </tr>\n",
       "  </thead>\n",
       "  <tbody>\n",
       "    <tr>\n",
       "      <th>0</th>\n",
       "      <td>[1768-07-03, 1782-06-xx, 1788-06-xx]</td>\n",
       "      <td>Traenotandum - De onder bovenstaande titel hie...</td>\n",
       "      <td>1795_Mege_Loef</td>\n",
       "      <td>1</td>\n",
       "      <td>1768-07-03</td>\n",
       "      <td>varying resolutions</td>\n",
       "    </tr>\n",
       "    <tr>\n",
       "      <th>1</th>\n",
       "      <td>[1768-07-03]</td>\n",
       "      <td>1768 julii 3</td>\n",
       "      <td>1795_Mege_Loef</td>\n",
       "      <td>2</td>\n",
       "      <td>1768-07-03</td>\n",
       "      <td>unambiguous day</td>\n",
       "    </tr>\n",
       "    <tr>\n",
       "      <th>2</th>\n",
       "      <td>[1790-05-26]</td>\n",
       "      <td>1790 maji 26 S. Sacramentum Confirmationis acc...</td>\n",
       "      <td>1795_Mege_Loef</td>\n",
       "      <td>4</td>\n",
       "      <td>1790-05-26</td>\n",
       "      <td>unambiguous day</td>\n",
       "    </tr>\n",
       "    <tr>\n",
       "      <th>3</th>\n",
       "      <td>[1789-11-xx]</td>\n",
       "      <td>Ob Sanitatis insufficientiam hic Megae permans...</td>\n",
       "      <td>1795_Mege_Loef</td>\n",
       "      <td>14</td>\n",
       "      <td>1789-11-xx</td>\n",
       "      <td>unambiguous month</td>\n",
       "    </tr>\n",
       "    <tr>\n",
       "      <th>4</th>\n",
       "      <td>[1789-12-05]</td>\n",
       "      <td>1789 dec. 5</td>\n",
       "      <td>1795_Mege_Loef</td>\n",
       "      <td>15</td>\n",
       "      <td>1789-12-05</td>\n",
       "      <td>unambiguous day</td>\n",
       "    </tr>\n",
       "  </tbody>\n",
       "</table>\n",
       "</div>"
      ],
      "text/plain": [
       "                                   date  \\\n",
       "0  [1768-07-03, 1782-06-xx, 1788-06-xx]   \n",
       "1                          [1768-07-03]   \n",
       "2                          [1790-05-26]   \n",
       "3                          [1789-11-xx]   \n",
       "4                          [1789-12-05]   \n",
       "\n",
       "                                                text         call_nr  id  \\\n",
       "0  Traenotandum - De onder bovenstaande titel hie...  1795_Mege_Loef   1   \n",
       "1                                       1768 julii 3  1795_Mege_Loef   2   \n",
       "2  1790 maji 26 S. Sacramentum Confirmationis acc...  1795_Mege_Loef   4   \n",
       "3  Ob Sanitatis insufficientiam hic Megae permans...  1795_Mege_Loef  14   \n",
       "4                                        1789 dec. 5  1795_Mege_Loef  15   \n",
       "\n",
       "   clean_date     date_uncertainty  \n",
       "0  1768-07-03  varying resolutions  \n",
       "1  1768-07-03      unambiguous day  \n",
       "2  1790-05-26      unambiguous day  \n",
       "3  1789-11-xx    unambiguous month  \n",
       "4  1789-12-05      unambiguous day  "
      ]
     },
     "execution_count": 3,
     "metadata": {},
     "output_type": "execute_result"
    }
   ],
   "source": [
    "df_primitives.head()"
   ]
  },
  {
   "cell_type": "code",
   "execution_count": 4,
   "metadata": {},
   "outputs": [
    {
     "data": {
      "text/plain": [
       "(85680, 8)"
      ]
     },
     "execution_count": 4,
     "metadata": {},
     "output_type": "execute_result"
    }
   ],
   "source": [
    "df_primitives['clean_month'] = df_primitives['clean_date'].str.replace('xx', '01')\n",
    "df_primitives['clean_month'] = df_primitives['clean_month'].str.replace('XX', '01')\n",
    "df_primitives.sort_values(by='clean_month', inplace=True)\n",
    "df_primitives['len_text'] = df_primitives['text'].str.len()\n",
    "df_primitives = df_primitives.query('len_text >= 50')\n",
    "df_primitives.shape"
   ]
  },
  {
   "cell_type": "code",
   "execution_count": 5,
   "metadata": {},
   "outputs": [
    {
     "name": "stderr",
     "output_type": "stream",
     "text": [
      "100%|██████████| 85680/85680 [00:43<00:00, 1980.03it/s]\n"
     ]
    }
   ],
   "source": [
    "all_rows = []\n",
    "\n",
    "for index, line in tqdm(df_primitives.iterrows(), total=df_primitives.shape[0]):\n",
    "    d_line = dict(line)\n",
    "    d_line['n_tokens'] = len(TOKENIZER(''.join([c for c in d_line['text'] if c not in punctuation])))\n",
    "    all_rows.append(d_line)\n",
    "\n",
    "df_primitives = pd.DataFrame(all_rows)\n"
   ]
  },
  {
   "cell_type": "code",
   "execution_count": 6,
   "metadata": {},
   "outputs": [
    {
     "data": {
      "text/plain": [
       "127"
      ]
     },
     "execution_count": 6,
     "metadata": {},
     "output_type": "execute_result"
    }
   ],
   "source": [
    "df_primitives['call_nr_clean'] = df_primitives['call_nr'].str[:14]\n",
    "df_primitives['call_nr_clean'].nunique()"
   ]
  },
  {
   "cell_type": "code",
   "execution_count": 7,
   "metadata": {},
   "outputs": [
    {
     "data": {
      "text/plain": [
       "(35, 10)"
      ]
     },
     "execution_count": 7,
     "metadata": {},
     "output_type": "execute_result"
    }
   ],
   "source": [
    "all_rows = []\n",
    "false_rows = []\n",
    "\n",
    "\n",
    "for i, r in df_primitives.iterrows():\n",
    "    d_row = dict(r)\n",
    "    try:\n",
    "        d_row['clean_month'] = date.fromisoformat(d_row['clean_month'])\n",
    "        all_rows.append(d_row)\n",
    "    except ValueError:\n",
    "        false_rows.append(d_row)\n",
    "\n",
    "false_primitives = pd.DataFrame(false_rows)\n",
    "false_primitives.shape"
   ]
  },
  {
   "cell_type": "code",
   "execution_count": 8,
   "metadata": {},
   "outputs": [
    {
     "data": {
      "text/plain": [
       "array(['1657_Mech_Beth', '1838_Hoor_Anon_01', '1666_Gent_Bill_05',\n",
       "       '1762_Maas_Anon', '1750_Brus_Anon', '1790_Mech_Wijn',\n",
       "       '1772_Amst_Bikk', '1781_Brug_Ledo', '1792_Brie_Klui_09',\n",
       "       '1776_Mech_Nieu_05', '1795_Maas_Loye', '1807_Leuv_Pelc_02',\n",
       "       '1792_Brie_Klui_11', '1796_Leeu_Buma', '1807_Leuv_Pelc_03',\n",
       "       '1808_Gent_Quic', '1805_Haar_Vinn', '1802_Brus_Anon',\n",
       "       '1819_Binn_Kars', '1835_Gent_Call_02', '1835_Gent_Call_03',\n",
       "       '1835_Gent_Call_05', '1854_Tilb_Beer_01', '1844_Heez_Moor',\n",
       "       '1835_Gent_Call_06', '1855_Popp_Jong', '1856_Wird_Hell'],\n",
       "      dtype=object)"
      ]
     },
     "execution_count": 8,
     "metadata": {},
     "output_type": "execute_result"
    }
   ],
   "source": [
    "false_primitives['call_nr'].unique()"
   ]
  },
  {
   "cell_type": "code",
   "execution_count": 9,
   "metadata": {},
   "outputs": [],
   "source": [
    "with open('../output/primitives_230807/primitives_corrected_monthly_clean.ndjson', 'w') as fout:\n",
    "        ndjson.dump(df_primitives.to_dict('records'), fout)"
   ]
  }
 ],
 "metadata": {
  "kernelspec": {
   "display_name": "base",
   "language": "python",
   "name": "python3"
  },
  "language_info": {
   "codemirror_mode": {
    "name": "ipython",
    "version": 3
   },
   "file_extension": ".py",
   "mimetype": "text/x-python",
   "name": "python",
   "nbconvert_exporter": "python",
   "pygments_lexer": "ipython3",
   "version": "3.9.13"
  },
  "orig_nbformat": 4,
  "vscode": {
   "interpreter": {
    "hash": "26016964c4c4dcbf381f10f992ee8a7c1839c85691a5fa5b59f2b0c9cad5add8"
   }
  }
 },
 "nbformat": 4,
 "nbformat_minor": 2
}
